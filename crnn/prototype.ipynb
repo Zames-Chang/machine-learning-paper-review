{
 "cells": [
  {
   "cell_type": "code",
   "execution_count": 1,
   "metadata": {},
   "outputs": [
    {
     "name": "stderr",
     "output_type": "stream",
     "text": [
      "C:\\Users\\User\\Anaconda3\\lib\\site-packages\\h5py\\__init__.py:36: FutureWarning: Conversion of the second argument of issubdtype from `float` to `np.floating` is deprecated. In future, it will be treated as `np.float64 == np.dtype(float).type`.\n",
      "  from ._conv import register_converters as _register_converters\n"
     ]
    }
   ],
   "source": [
    "import tensorflow as tf"
   ]
  },
  {
   "cell_type": "code",
   "execution_count": 2,
   "metadata": {},
   "outputs": [
    {
     "name": "stdout",
     "output_type": "stream",
     "text": [
      "WARNING:tensorflow:From <ipython-input-2-3ef3f7c0895d>:3: read_data_sets (from tensorflow.contrib.learn.python.learn.datasets.mnist) is deprecated and will be removed in a future version.\n",
      "Instructions for updating:\n",
      "Please use alternatives such as official/mnist/dataset.py from tensorflow/models.\n",
      "WARNING:tensorflow:From C:\\Users\\User\\Anaconda3\\lib\\site-packages\\tensorflow\\contrib\\learn\\python\\learn\\datasets\\mnist.py:260: maybe_download (from tensorflow.contrib.learn.python.learn.datasets.base) is deprecated and will be removed in a future version.\n",
      "Instructions for updating:\n",
      "Please write your own downloading logic.\n",
      "WARNING:tensorflow:From C:\\Users\\User\\Anaconda3\\lib\\site-packages\\tensorflow\\contrib\\learn\\python\\learn\\datasets\\mnist.py:262: extract_images (from tensorflow.contrib.learn.python.learn.datasets.mnist) is deprecated and will be removed in a future version.\n",
      "Instructions for updating:\n",
      "Please use tf.data to implement this functionality.\n",
      "Extracting /tmp/data/train-images-idx3-ubyte.gz\n",
      "WARNING:tensorflow:From C:\\Users\\User\\Anaconda3\\lib\\site-packages\\tensorflow\\contrib\\learn\\python\\learn\\datasets\\mnist.py:267: extract_labels (from tensorflow.contrib.learn.python.learn.datasets.mnist) is deprecated and will be removed in a future version.\n",
      "Instructions for updating:\n",
      "Please use tf.data to implement this functionality.\n",
      "Extracting /tmp/data/train-labels-idx1-ubyte.gz\n",
      "WARNING:tensorflow:From C:\\Users\\User\\Anaconda3\\lib\\site-packages\\tensorflow\\contrib\\learn\\python\\learn\\datasets\\mnist.py:110: dense_to_one_hot (from tensorflow.contrib.learn.python.learn.datasets.mnist) is deprecated and will be removed in a future version.\n",
      "Instructions for updating:\n",
      "Please use tf.one_hot on tensors.\n",
      "Extracting /tmp/data/t10k-images-idx3-ubyte.gz\n",
      "Extracting /tmp/data/t10k-labels-idx1-ubyte.gz\n",
      "WARNING:tensorflow:From C:\\Users\\User\\Anaconda3\\lib\\site-packages\\tensorflow\\contrib\\learn\\python\\learn\\datasets\\mnist.py:290: DataSet.__init__ (from tensorflow.contrib.learn.python.learn.datasets.mnist) is deprecated and will be removed in a future version.\n",
      "Instructions for updating:\n",
      "Please use alternatives such as official/mnist/dataset.py from tensorflow/models.\n"
     ]
    }
   ],
   "source": [
    "from tensorflow.examples.tutorials.mnist import input_data\n",
    "from tensorflow.contrib import rnn\n",
    "mnist = input_data.read_data_sets(\"/tmp/data/\", one_hot=True)\n"
   ]
  },
  {
   "cell_type": "code",
   "execution_count": 3,
   "metadata": {},
   "outputs": [
    {
     "name": "stdout",
     "output_type": "stream",
     "text": [
      "WARNING:tensorflow:From <ipython-input-3-d8f2ac58407e>:96: softmax_cross_entropy_with_logits (from tensorflow.python.ops.nn_ops) is deprecated and will be removed in a future version.\n",
      "Instructions for updating:\n",
      "\n",
      "Future major versions of TensorFlow will allow gradients to flow\n",
      "into the labels input on backprop by default.\n",
      "\n",
      "See @{tf.nn.softmax_cross_entropy_with_logits_v2}.\n",
      "\n"
     ]
    }
   ],
   "source": [
    "# Training Parameters\n",
    "learning_rate = 0.001\n",
    "training_steps = 10000\n",
    "batch_size = 128\n",
    "display_step = 200\n",
    "\n",
    "# Network Parameters\n",
    "depth1 = 32\n",
    "depth2 = 64\n",
    "num_input = 7*depth2 # \n",
    "timesteps = 7 # feature shape 7*7\n",
    "num_hidden = 128 # hidden layer num of features\n",
    "num_classes = 10 # MNIST total classes (0-9 digits)\n",
    "image_width = 28\n",
    "image_height = 28\n",
    "\n",
    "# tf Graph input\n",
    "input_x = tf.placeholder(\"float\", [None, image_width, image_height])\n",
    "Y = tf.placeholder(\"float\", [None, num_classes])\n",
    "\n",
    "# Define weights\n",
    "weights = {\n",
    "    'forward': tf.Variable(tf.random_normal([num_hidden, num_classes])),\n",
    "    'backward': tf.Variable(tf.random_normal([num_hidden, num_classes]))\n",
    "}\n",
    "biases = {\n",
    "    'forward': tf.Variable(tf.random_normal([num_classes])),\n",
    "    'backward': tf.Variable(tf.random_normal([num_classes]))\n",
    "}\n",
    "\n",
    "\n",
    "def cnn_model_fn(input_data):\n",
    "    \"\"\"Model function for CNN.\"\"\"\n",
    "  # Input Layer\n",
    "    input_layer = tf.reshape(input_data, [-1, 28, 28, 1])\n",
    "    # Convolutional Layer #1\n",
    "    conv1 = tf.layers.conv2d(\n",
    "      inputs=input_layer,\n",
    "      filters=32,\n",
    "      kernel_size=[5, 5],\n",
    "      padding=\"same\",\n",
    "      activation=tf.nn.relu)\n",
    "\n",
    "    # Pooling Layer #1\n",
    "    pool1 = tf.layers.max_pooling2d(inputs=conv1, pool_size=[2, 2], strides=2)\n",
    "\n",
    "    # Convolutional Layer #2 and Pooling Layer #2\n",
    "    conv2 = tf.layers.conv2d(\n",
    "      inputs=pool1,\n",
    "      filters=64,\n",
    "      kernel_size=[5, 5],\n",
    "      padding=\"same\",\n",
    "      activation=tf.nn.relu)\n",
    "    pool2 = tf.layers.max_pooling2d(inputs=conv2, pool_size=[2, 2], strides=2)\n",
    "    return pool2\n",
    "\n",
    "\n",
    "def forwardRNN(x, weights, biases):\n",
    "\n",
    "    # Prepare data shape to match `rnn` function requirements\n",
    "    # Current data input shape: (batch_size, timesteps, n_input)\n",
    "    # Required shape: 'timesteps' tensors list of shape (batch_size, n_input)\n",
    "\n",
    "    # Unstack to get a list of 'timesteps' tensors of shape (batch_size, n_input)\n",
    "    x = tf.unstack(x, timesteps, 1)\n",
    "    # Define a lstm cell with tensorflow\n",
    "    \n",
    "    lstm_cell = rnn.BasicLSTMCell(num_hidden, forget_bias=1.0)\n",
    "\n",
    "    # Get lstm cell output\n",
    "    with tf.variable_scope('forwardRNN'):\n",
    "        outputs, states = rnn.static_rnn(lstm_cell, x, dtype=tf.float32)\n",
    "\n",
    "    # Linear activation, using rnn inner loop last output\n",
    "    return tf.matmul(outputs[-1], weights['forward']) + biases['forward']\n",
    "def backwardRNN(x, weights, biases):\n",
    "    x = tf.unstack(x, timesteps, 1)\n",
    "    # Define a lstm cell with tensorflow\n",
    "    x.reverse()\n",
    "    lstm_cell = rnn.BasicLSTMCell(num_hidden, forget_bias=1.0)\n",
    "\n",
    "    # Get lstm cell output\n",
    "    with tf.variable_scope('backwardRNN'):\n",
    "        outputs, states = rnn.static_rnn(lstm_cell, x, dtype=tf.float32)\n",
    "\n",
    "    # Linear activation, using rnn inner loop last output\n",
    "    return tf.matmul(outputs[-1], weights['backward']) + biases['backward']\n",
    "\n",
    "output_feature = cnn_model_fn(input_x)\n",
    "output_feature = tf.reshape(output_feature,[-1,timesteps,num_input])\n",
    "logits = forwardRNN(output_feature, weights, biases) + backwardRNN(output_feature,weights,biases)\n",
    "prediction = tf.nn.softmax(logits)\n",
    "\n",
    "# Define loss and optimizer\n",
    "loss_op = tf.reduce_mean(tf.nn.softmax_cross_entropy_with_logits(\n",
    "    logits=logits, labels=Y))\n",
    "optimizer = tf.train.AdamOptimizer(learning_rate=learning_rate)\n",
    "train_op = optimizer.minimize(loss_op)\n",
    "\n",
    "# Evaluate model (with test logits, for dropout to be disabled)\n",
    "correct_pred = tf.equal(tf.argmax(prediction, 1), tf.argmax(Y, 1))\n",
    "accuracy = tf.reduce_mean(tf.cast(correct_pred, tf.float32))\n",
    "\n"
   ]
  },
  {
   "cell_type": "code",
   "execution_count": 4,
   "metadata": {},
   "outputs": [
    {
     "name": "stdout",
     "output_type": "stream",
     "text": [
      "Step 1, Minibatch Loss= 2.9235, Training Accuracy= 0.109\n",
      "Step 200, Minibatch Loss= 0.1108, Training Accuracy= 0.969\n",
      "Step 400, Minibatch Loss= 0.0479, Training Accuracy= 0.984\n",
      "Step 600, Minibatch Loss= 0.0056, Training Accuracy= 1.000\n",
      "Step 800, Minibatch Loss= 0.0513, Training Accuracy= 0.984\n",
      "Step 1000, Minibatch Loss= 0.0111, Training Accuracy= 1.000\n",
      "Step 1200, Minibatch Loss= 0.0612, Training Accuracy= 0.992\n",
      "Step 1400, Minibatch Loss= 0.0443, Training Accuracy= 0.984\n",
      "Step 1600, Minibatch Loss= 0.0256, Training Accuracy= 0.992\n",
      "Step 1800, Minibatch Loss= 0.0131, Training Accuracy= 1.000\n",
      "Step 2000, Minibatch Loss= 0.0215, Training Accuracy= 0.984\n",
      "Step 2200, Minibatch Loss= 0.0014, Training Accuracy= 1.000\n",
      "Step 2400, Minibatch Loss= 0.0057, Training Accuracy= 1.000\n",
      "Step 2600, Minibatch Loss= 0.0101, Training Accuracy= 1.000\n",
      "Step 2800, Minibatch Loss= 0.0025, Training Accuracy= 1.000\n",
      "Step 3000, Minibatch Loss= 0.0107, Training Accuracy= 0.992\n",
      "Step 3200, Minibatch Loss= 0.0015, Training Accuracy= 1.000\n",
      "Step 3400, Minibatch Loss= 0.0035, Training Accuracy= 1.000\n",
      "Step 3600, Minibatch Loss= 0.0006, Training Accuracy= 1.000\n",
      "Step 3800, Minibatch Loss= 0.0021, Training Accuracy= 1.000\n",
      "Step 4000, Minibatch Loss= 0.0035, Training Accuracy= 1.000\n",
      "Step 4200, Minibatch Loss= 0.0023, Training Accuracy= 1.000\n",
      "Step 4400, Minibatch Loss= 0.0008, Training Accuracy= 1.000\n",
      "Step 4600, Minibatch Loss= 0.0008, Training Accuracy= 1.000\n",
      "Step 4800, Minibatch Loss= 0.0008, Training Accuracy= 1.000\n",
      "Step 5000, Minibatch Loss= 0.0010, Training Accuracy= 1.000\n",
      "Step 5200, Minibatch Loss= 0.0023, Training Accuracy= 1.000\n",
      "Step 5400, Minibatch Loss= 0.0036, Training Accuracy= 1.000\n",
      "Step 5600, Minibatch Loss= 0.0257, Training Accuracy= 0.992\n",
      "Step 5800, Minibatch Loss= 0.0024, Training Accuracy= 1.000\n",
      "Step 6000, Minibatch Loss= 0.0092, Training Accuracy= 0.992\n",
      "Step 6200, Minibatch Loss= 0.0000, Training Accuracy= 1.000\n",
      "Step 6400, Minibatch Loss= 0.0009, Training Accuracy= 1.000\n",
      "Step 6600, Minibatch Loss= 0.0018, Training Accuracy= 1.000\n",
      "Step 6800, Minibatch Loss= 0.0000, Training Accuracy= 1.000\n",
      "Step 7000, Minibatch Loss= 0.0009, Training Accuracy= 1.000\n",
      "Step 7200, Minibatch Loss= 0.0015, Training Accuracy= 1.000\n",
      "Step 7400, Minibatch Loss= 0.0013, Training Accuracy= 1.000\n",
      "Step 7600, Minibatch Loss= 0.0005, Training Accuracy= 1.000\n",
      "Step 7800, Minibatch Loss= 0.0000, Training Accuracy= 1.000\n",
      "Step 8000, Minibatch Loss= 0.0003, Training Accuracy= 1.000\n",
      "Step 8200, Minibatch Loss= 0.0003, Training Accuracy= 1.000\n",
      "Step 8400, Minibatch Loss= 0.0001, Training Accuracy= 1.000\n",
      "Step 8600, Minibatch Loss= 0.0011, Training Accuracy= 1.000\n",
      "Step 8800, Minibatch Loss= 0.0005, Training Accuracy= 1.000\n",
      "Step 9000, Minibatch Loss= 0.0006, Training Accuracy= 1.000\n",
      "Step 9200, Minibatch Loss= 0.0001, Training Accuracy= 1.000\n",
      "Step 9400, Minibatch Loss= 0.0000, Training Accuracy= 1.000\n",
      "Step 9600, Minibatch Loss= 0.0001, Training Accuracy= 1.000\n",
      "Step 9800, Minibatch Loss= 0.0000, Training Accuracy= 1.000\n",
      "Step 10000, Minibatch Loss= 0.0006, Training Accuracy= 1.000\n",
      "Optimization Finished!\n"
     ]
    },
    {
     "ename": "NameError",
     "evalue": "name 'X' is not defined",
     "output_type": "error",
     "traceback": [
      "\u001b[1;31m---------------------------------------------------------------------------\u001b[0m",
      "\u001b[1;31mNameError\u001b[0m                                 Traceback (most recent call last)",
      "\u001b[1;32m<ipython-input-4-9ffa61ac9057>\u001b[0m in \u001b[0;36m<module>\u001b[1;34m()\u001b[0m\n\u001b[0;32m     28\u001b[0m     \u001b[0mtest_label\u001b[0m \u001b[1;33m=\u001b[0m \u001b[0mmnist\u001b[0m\u001b[1;33m.\u001b[0m\u001b[0mtest\u001b[0m\u001b[1;33m.\u001b[0m\u001b[0mlabels\u001b[0m\u001b[1;33m[\u001b[0m\u001b[1;33m:\u001b[0m\u001b[0mtest_len\u001b[0m\u001b[1;33m]\u001b[0m\u001b[1;33m\u001b[0m\u001b[0m\n\u001b[0;32m     29\u001b[0m     print(\"Testing Accuracy:\", \n\u001b[1;32m---> 30\u001b[1;33m         sess.run(accuracy, feed_dict={X: test_data, Y: test_label}))\n\u001b[0m",
      "\u001b[1;31mNameError\u001b[0m: name 'X' is not defined"
     ]
    }
   ],
   "source": [
    "# Initialize the variables (i.e. assign their default value)\n",
    "init = tf.global_variables_initializer()\n",
    "results = []\n",
    "# Start training\n",
    "with tf.Session() as sess:\n",
    "\n",
    "    # Run the initializer\n",
    "    sess.run(init)\n",
    "\n",
    "    for step in range(1, training_steps+1):\n",
    "        batch_x, batch_y = mnist.train.next_batch(batch_size)\n",
    "        # Reshape data to get 28 seq of 28 elements\n",
    "        batch_x = batch_x.reshape((batch_size, image_width, image_height))\n",
    "        # Run optimization op (backprop)\n",
    "        _ ,acc = sess.run([train_op,accuracy], feed_dict={input_x: batch_x, Y: batch_y})\n",
    "        results.append(acc)\n",
    "        if step % display_step == 0 or step == 1:\n",
    "            # Calculate batch loss and accuracy\n",
    "            loss, acc = sess.run([loss_op, accuracy], feed_dict={input_x: batch_x,\n",
    "                                                                 Y: batch_y})\n",
    "            print(\"Step \" + str(step) + \", Minibatch Loss= \" + \\\n",
    "                  \"{:.4f}\".format(loss) + \", Training Accuracy= \" + \\\n",
    "                  \"{:.3f}\".format(acc))\n",
    "\n",
    "    print(\"Optimization Finished!\")\n",
    "\n",
    "    # Calculate accuracy for 128 mnist test images\n",
    "    test_len = 128\n",
    "    test_data = mnist.test.images[:test_len].reshape((-1, timesteps, num_input))\n",
    "    test_label = mnist.test.labels[:test_len]\n",
    "    print(\"Testing Accuracy:\", \n",
    "        sess.run(accuracy, feed_dict={input_x: test_data, Y: test_label}))"
   ]
  },
  {
   "cell_type": "code",
   "execution_count": 7,
   "metadata": {},
   "outputs": [
    {
     "data": {
      "image/png": "[encoded data removed]",
      "text/plain": [
       "<Figure size 432x288 with 1 Axes>"
      ]
     },
     "metadata": {
      "needs_background": "light"
     },
     "output_type": "display_data"
    }
   ],
   "source": [
    "from matplotlib import pyplot as plt\n",
    "plt.plot(range(training_steps),results)\n",
    "plt.show()"
   ]
  },
  {
   "cell_type": "code",
   "execution_count": null,
   "metadata": {},
   "outputs": [],
   "source": []
  }
 ],
 "metadata": {
  "kernelspec": {
   "display_name": "Python 3",
   "language": "python",
   "name": "python3"
  },
  "language_info": {
   "codemirror_mode": {
    "name": "ipython",
    "version": 3
   },
   "file_extension": ".py",
   "mimetype": "text/x-python",
   "name": "python",
   "nbconvert_exporter": "python",
   "pygments_lexer": "ipython3",
   "version": "3.6.4"
  }
 },
 "nbformat": 4,
 "nbformat_minor": 2
}
