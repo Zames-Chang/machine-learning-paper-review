{
 "cells": [
  {
   "cell_type": "code",
   "execution_count": 1,
   "metadata": {},
   "outputs": [
    {
     "name": "stderr",
     "output_type": "stream",
     "text": [
      "C:\\Users\\User\\Anaconda3\\lib\\site-packages\\h5py\\__init__.py:36: FutureWarning: Conversion of the second argument of issubdtype from `float` to `np.floating` is deprecated. In future, it will be treated as `np.float64 == np.dtype(float).type`.\n",
      "  from ._conv import register_converters as _register_converters\n",
      "Using TensorFlow backend.\n"
     ]
    },
    {
     "name": "stdout",
     "output_type": "stream",
     "text": [
      "WARNING:tensorflow:From <ipython-input-1-3fc10a24f4c0>:5: read_data_sets (from tensorflow.contrib.learn.python.learn.datasets.mnist) is deprecated and will be removed in a future version.\n",
      "Instructions for updating:\n",
      "Please use alternatives such as official/mnist/dataset.py from tensorflow/models.\n",
      "WARNING:tensorflow:From C:\\Users\\User\\Anaconda3\\lib\\site-packages\\tensorflow\\contrib\\learn\\python\\learn\\datasets\\mnist.py:260: maybe_download (from tensorflow.contrib.learn.python.learn.datasets.base) is deprecated and will be removed in a future version.\n",
      "Instructions for updating:\n",
      "Please write your own downloading logic.\n",
      "WARNING:tensorflow:From C:\\Users\\User\\Anaconda3\\lib\\site-packages\\tensorflow\\contrib\\learn\\python\\learn\\datasets\\mnist.py:262: extract_images (from tensorflow.contrib.learn.python.learn.datasets.mnist) is deprecated and will be removed in a future version.\n",
      "Instructions for updating:\n",
      "Please use tf.data to implement this functionality.\n",
      "Extracting /tmp/data/train-images-idx3-ubyte.gz\n",
      "WARNING:tensorflow:From C:\\Users\\User\\Anaconda3\\lib\\site-packages\\tensorflow\\contrib\\learn\\python\\learn\\datasets\\mnist.py:267: extract_labels (from tensorflow.contrib.learn.python.learn.datasets.mnist) is deprecated and will be removed in a future version.\n",
      "Instructions for updating:\n",
      "Please use tf.data to implement this functionality.\n",
      "Extracting /tmp/data/train-labels-idx1-ubyte.gz\n",
      "WARNING:tensorflow:From C:\\Users\\User\\Anaconda3\\lib\\site-packages\\tensorflow\\contrib\\learn\\python\\learn\\datasets\\mnist.py:110: dense_to_one_hot (from tensorflow.contrib.learn.python.learn.datasets.mnist) is deprecated and will be removed in a future version.\n",
      "Instructions for updating:\n",
      "Please use tf.one_hot on tensors.\n",
      "Extracting /tmp/data/t10k-images-idx3-ubyte.gz\n",
      "Extracting /tmp/data/t10k-labels-idx1-ubyte.gz\n",
      "WARNING:tensorflow:From C:\\Users\\User\\Anaconda3\\lib\\site-packages\\tensorflow\\contrib\\learn\\python\\learn\\datasets\\mnist.py:290: DataSet.__init__ (from tensorflow.contrib.learn.python.learn.datasets.mnist) is deprecated and will be removed in a future version.\n",
      "Instructions for updating:\n",
      "Please use alternatives such as official/mnist/dataset.py from tensorflow/models.\n"
     ]
    }
   ],
   "source": [
    "import tensorflow as tf\n",
    "from tensorflow.examples.tutorials.mnist import input_data\n",
    "from tensorflow.contrib import rnn\n",
    "from keras.layers import ZeroPadding2D\n",
    "mnist = input_data.read_data_sets(\"/tmp/data/\", one_hot=True)\n",
    "\n",
    "        "
   ]
  },
  {
   "cell_type": "code",
   "execution_count": 2,
   "metadata": {},
   "outputs": [],
   "source": [
    "class google_net_cell(object):\n",
    "    def __init__(self,image_width,image_height,channel):\n",
    "        self.a = 0\n",
    "        self.width = image_width\n",
    "        self.height = image_height\n",
    "        self.channel = channel\n",
    "        self.filter_number = [channel,channel,channel,channel]\n",
    "    def get_padding(self,tensor,shape):\n",
    "        width = shape[0]\n",
    "        height = shape[1]\n",
    "        width2 = width // 2\n",
    "        height2 = height // 2\n",
    "        top = ((height - height2)//2)\n",
    "        bottom = (height - height2 - top)\n",
    "        left = ((width - width2) //2)\n",
    "        right = (width - width2 - left)\n",
    "        #print(right)\n",
    "        paddings = [[top,bottom,],[left,right]]\n",
    "        return ZeroPadding2D(paddings)(tensor)\n",
    "    def conv(self,input_data):\n",
    "        input_layer = tf.reshape(input_data, [-1, self.width, self.height, self.channel])\n",
    "        conv1 = tf.layers.conv2d(\n",
    "          inputs=input_layer,\n",
    "          filters=self.filter_number[0],\n",
    "          kernel_size=[1, 1],\n",
    "          padding=\"same\",\n",
    "          activation=tf.nn.relu)\n",
    "        conv2_1 = tf.layers.conv2d(\n",
    "          inputs=input_layer,\n",
    "          filters=self.filter_number[1],\n",
    "          kernel_size=[1, 1],\n",
    "          padding=\"same\",\n",
    "          activation=tf.nn.relu)\n",
    "        conv2_2 = tf.layers.conv2d(\n",
    "          inputs=conv2_1,\n",
    "          filters=self.filter_number[1],\n",
    "          kernel_size=[3, 3],\n",
    "          padding=\"same\",\n",
    "          activation=tf.nn.relu)\n",
    "        conv3_1 = tf.layers.conv2d(\n",
    "          inputs=input_layer,\n",
    "          filters=self.filter_number[2],\n",
    "          kernel_size=[1, 1],\n",
    "          padding=\"same\",\n",
    "          activation=tf.nn.relu)\n",
    "        conv3_2 = tf.layers.conv2d(\n",
    "          inputs=conv3_1,\n",
    "          filters=self.filter_number[2],\n",
    "          kernel_size=[5, 5],\n",
    "          padding=\"same\",\n",
    "          activation=tf.nn.relu)\n",
    "        pool1 = tf.layers.average_pooling2d(inputs=input_layer, pool_size=[3, 3], strides=2)\n",
    "        padding_pool = self.get_padding(pool1,[self.width,self.height])\n",
    "        conv4 = tf.layers.conv2d(\n",
    "          inputs=conv2_1,\n",
    "          filters=self.filter_number[0],\n",
    "          kernel_size=[1, 1],\n",
    "          padding=\"same\",\n",
    "          activation=tf.nn.relu)\n",
    "        return tf.concat([conv1,conv2_2,conv3_2,conv4],-1)"
   ]
  },
  {
   "cell_type": "code",
   "execution_count": 3,
   "metadata": {},
   "outputs": [],
   "source": [
    "learning_rate = 0.001\n",
    "training_steps = 10000\n",
    "batch_size = 128\n",
    "display_step = 200\n",
    "\n",
    "# Network Parameters\n",
    "num_hidden = 128 # hidden layer num of features\n",
    "num_classes = 10 # MNIST total classes (0-9 digits)\n",
    "image_width = 28\n",
    "image_height = 28\n",
    "cell = google_net_cell(28,28,1)\n",
    "input_x = tf.placeholder(\"float\", [None, image_width, image_height])\n",
    "Y = tf.placeholder(\"float\", [None, num_classes])"
   ]
  },
  {
   "cell_type": "code",
   "execution_count": 4,
   "metadata": {},
   "outputs": [],
   "source": [
    "layer1 = cell.conv(input_x)"
   ]
  },
  {
   "cell_type": "code",
   "execution_count": 5,
   "metadata": {},
   "outputs": [],
   "source": [
    "cell2 = google_net_cell(28,28,4)\n",
    "layer2 = cell2.conv(layer1)\n",
    "cell3 = google_net_cell(28,28,16)\n",
    "layer3 = cell3.conv(layer2)\n",
    "fatten = tf.reshape(layer3,[-1,28*28*64])\n",
    "weights = {\n",
    "    'w1': tf.Variable(tf.random_normal([28*28*64, num_hidden])),\n",
    "    'w2': tf.Variable(tf.random_normal([num_hidden, num_classes]))\n",
    "}\n",
    "biases = {\n",
    "    'b1': tf.Variable(tf.random_normal([num_hidden])),\n",
    "    'b2': tf.Variable(tf.random_normal([num_classes]))\n",
    "}\n"
   ]
  },
  {
   "cell_type": "code",
   "execution_count": 6,
   "metadata": {},
   "outputs": [
    {
     "name": "stdout",
     "output_type": "stream",
     "text": [
      "WARNING:tensorflow:From <ipython-input-6-c5a5c3c8ae9f>:6: softmax_cross_entropy_with_logits (from tensorflow.python.ops.nn_ops) is deprecated and will be removed in a future version.\n",
      "Instructions for updating:\n",
      "\n",
      "Future major versions of TensorFlow will allow gradients to flow\n",
      "into the labels input on backprop by default.\n",
      "\n",
      "See @{tf.nn.softmax_cross_entropy_with_logits_v2}.\n",
      "\n"
     ]
    }
   ],
   "source": [
    "vec1 = tf.nn.relu(tf.matmul(fatten, weights['w1']) + biases['b1'])\n",
    "vec2 = tf.matmul(vec1, weights['w2']) + biases['b2']\n",
    "# Define loss and optimizer\n",
    "prediction = tf.nn.softmax(vec2)\n",
    "loss_op = tf.reduce_mean(tf.nn.softmax_cross_entropy_with_logits(\n",
    "    logits=vec2, labels=Y))\n",
    "optimizer = tf.train.AdamOptimizer(learning_rate=learning_rate)\n",
    "train_op = optimizer.minimize(loss_op)\n",
    "\n",
    "# Evaluate model (with test logits, for dropout to be disabled)\n",
    "correct_pred = tf.equal(tf.argmax(prediction, 1), tf.argmax(Y, 1))\n",
    "accuracy = tf.reduce_mean(tf.cast(correct_pred, tf.float32))"
   ]
  },
  {
   "cell_type": "code",
   "execution_count": 8,
   "metadata": {},
   "outputs": [
    {
     "name": "stdout",
     "output_type": "stream",
     "text": [
      "Step 1, Minibatch Loss= 31.9849, Training Accuracy= 0.156\n",
      "Step 200, Minibatch Loss= 0.4835, Training Accuracy= 0.859\n",
      "Step 400, Minibatch Loss= 0.4584, Training Accuracy= 0.859\n",
      "Step 600, Minibatch Loss= 0.2016, Training Accuracy= 0.938\n",
      "Step 800, Minibatch Loss= 0.1177, Training Accuracy= 0.945\n",
      "Step 1000, Minibatch Loss= 0.1097, Training Accuracy= 0.961\n",
      "Step 1200, Minibatch Loss= 0.0647, Training Accuracy= 0.984\n",
      "Step 1400, Minibatch Loss= 0.0306, Training Accuracy= 0.992\n",
      "Step 1600, Minibatch Loss= 0.1779, Training Accuracy= 0.961\n",
      "Step 1800, Minibatch Loss= 0.0670, Training Accuracy= 0.977\n",
      "Step 2000, Minibatch Loss= 0.1101, Training Accuracy= 0.961\n",
      "Step 2200, Minibatch Loss= 0.0620, Training Accuracy= 0.984\n",
      "Step 2400, Minibatch Loss= 0.0505, Training Accuracy= 0.984\n",
      "Step 2600, Minibatch Loss= 0.0725, Training Accuracy= 0.977\n",
      "Step 2800, Minibatch Loss= 0.0310, Training Accuracy= 0.992\n",
      "Step 3000, Minibatch Loss= 0.0342, Training Accuracy= 0.992\n",
      "Step 3200, Minibatch Loss= 0.0311, Training Accuracy= 0.984\n",
      "Step 3400, Minibatch Loss= 0.0203, Training Accuracy= 1.000\n",
      "Step 3600, Minibatch Loss= 0.0131, Training Accuracy= 0.992\n",
      "Step 3800, Minibatch Loss= 0.0061, Training Accuracy= 1.000\n",
      "Step 4000, Minibatch Loss= 0.0154, Training Accuracy= 0.992\n",
      "Step 4200, Minibatch Loss= 0.0212, Training Accuracy= 0.992\n",
      "Step 4400, Minibatch Loss= 0.0077, Training Accuracy= 1.000\n",
      "Step 4600, Minibatch Loss= 0.0144, Training Accuracy= 0.992\n",
      "Step 4800, Minibatch Loss= 0.0036, Training Accuracy= 1.000\n",
      "Step 5000, Minibatch Loss= 0.0125, Training Accuracy= 0.992\n",
      "Step 5200, Minibatch Loss= 0.0078, Training Accuracy= 1.000\n",
      "Step 5400, Minibatch Loss= 0.0018, Training Accuracy= 1.000\n",
      "Step 5600, Minibatch Loss= 0.0223, Training Accuracy= 0.992\n",
      "Step 5800, Minibatch Loss= 0.0107, Training Accuracy= 0.992\n",
      "Step 6000, Minibatch Loss= 0.0300, Training Accuracy= 0.992\n",
      "Step 6200, Minibatch Loss= 0.0075, Training Accuracy= 1.000\n",
      "Step 6400, Minibatch Loss= 0.0102, Training Accuracy= 0.992\n",
      "Step 6600, Minibatch Loss= 0.0085, Training Accuracy= 1.000\n",
      "Step 6800, Minibatch Loss= 0.0290, Training Accuracy= 0.992\n",
      "Step 7000, Minibatch Loss= 0.0019, Training Accuracy= 1.000\n",
      "Step 7200, Minibatch Loss= 0.0006, Training Accuracy= 1.000\n",
      "Step 7400, Minibatch Loss= 0.0024, Training Accuracy= 1.000\n",
      "Step 7600, Minibatch Loss= 0.0011, Training Accuracy= 1.000\n",
      "Step 7800, Minibatch Loss= 0.0024, Training Accuracy= 1.000\n",
      "Step 8000, Minibatch Loss= 0.0013, Training Accuracy= 1.000\n",
      "Step 8200, Minibatch Loss= 0.0009, Training Accuracy= 1.000\n",
      "Step 8400, Minibatch Loss= 0.0013, Training Accuracy= 1.000\n",
      "Step 8600, Minibatch Loss= 0.0071, Training Accuracy= 0.992\n",
      "Step 8800, Minibatch Loss= 0.0082, Training Accuracy= 0.992\n",
      "Step 9000, Minibatch Loss= 0.0000, Training Accuracy= 1.000\n",
      "Step 9200, Minibatch Loss= 0.0008, Training Accuracy= 1.000\n",
      "Step 9400, Minibatch Loss= 0.0010, Training Accuracy= 1.000\n",
      "Step 9600, Minibatch Loss= 0.0010, Training Accuracy= 1.000\n",
      "Step 9800, Minibatch Loss= 0.0027, Training Accuracy= 1.000\n",
      "Step 10000, Minibatch Loss= 0.0001, Training Accuracy= 1.000\n",
      "Optimization Finished!\n"
     ]
    },
    {
     "ename": "NameError",
     "evalue": "name 'X' is not defined",
     "output_type": "error",
     "traceback": [
      "\u001b[1;31m---------------------------------------------------------------------------\u001b[0m",
      "\u001b[1;31mNameError\u001b[0m                                 Traceback (most recent call last)",
      "\u001b[1;32m<ipython-input-8-1a7c31b15a68>\u001b[0m in \u001b[0;36m<module>\u001b[1;34m()\u001b[0m\n\u001b[0;32m     29\u001b[0m     \u001b[0mtest_label\u001b[0m \u001b[1;33m=\u001b[0m \u001b[0mmnist\u001b[0m\u001b[1;33m.\u001b[0m\u001b[0mtest\u001b[0m\u001b[1;33m.\u001b[0m\u001b[0mlabels\u001b[0m\u001b[1;33m[\u001b[0m\u001b[1;33m:\u001b[0m\u001b[0mtest_len\u001b[0m\u001b[1;33m]\u001b[0m\u001b[1;33m\u001b[0m\u001b[0m\n\u001b[0;32m     30\u001b[0m     print(\"Testing Accuracy:\", \n\u001b[1;32m---> 31\u001b[1;33m         sess.run(accuracy, feed_dict={X: test_data, Y: test_label}))\n\u001b[0m",
      "\u001b[1;31mNameError\u001b[0m: name 'X' is not defined"
     ]
    }
   ],
   "source": [
    "# Initialize the variables (i.e. assign their default value)\n",
    "init = tf.global_variables_initializer()\n",
    "results = []\n",
    "\n",
    "# Start training\n",
    "with tf.Session() as sess:\n",
    "\n",
    "    # Run the initializer\n",
    "    sess.run(init)\n",
    "\n",
    "    for step in range(1, training_steps+1):\n",
    "        batch_x, batch_y = mnist.train.next_batch(batch_size)\n",
    "        # Reshape data to get 28 seq of 28 elements\n",
    "        batch_x = batch_x.reshape((batch_size, image_width, image_height))\n",
    "        # Run optimization op (backprop)\n",
    "        _ ,acc = sess.run([train_op,accuracy] ,feed_dict={input_x: batch_x, Y: batch_y})\n",
    "        results.append(acc)\n",
    "        if step % display_step == 0 or step == 1:\n",
    "            # Calculate batch loss and accuracy\n",
    "            loss, acc = sess.run([loss_op, accuracy], feed_dict={input_x: batch_x,\n",
    "                                                                 Y: batch_y})\n",
    "            print(\"Step \" + str(step) + \", Minibatch Loss= \" + \\\n",
    "                  \"{:.4f}\".format(loss) + \", Training Accuracy= \" + \\\n",
    "                  \"{:.3f}\".format(acc))\n",
    "\n",
    "    print(\"Optimization Finished!\")\n",
    "\n",
    "    # Calculate accuracy for 128 mnist test images\n",
    "    test_len = 128\n",
    "    test_data = mnist.test.images[:test_len].reshape((-1, image_width, image_height))\n",
    "    test_label = mnist.test.labels[:test_len]\n",
    "    print(\"Testing Accuracy:\", \n",
    "        sess.run(accuracy, feed_dict={X: test_data, Y: test_label}))"
   ]
  },
  {
   "cell_type": "code",
   "execution_count": 10,
   "metadata": {},
   "outputs": [
    {
     "data": {
      "text/plain": [
       "<function matplotlib.pyplot.show>"
      ]
     },
     "execution_count": 10,
     "metadata": {},
     "output_type": "execute_result"
    },
    {
     "data": {
      "image/png": "[encoded data removed]",
      "text/plain": [
       "<Figure size 432x288 with 1 Axes>"
      ]
     },
     "metadata": {
      "needs_background": "light"
     },
     "output_type": "display_data"
    }
   ],
   "source": [
    "from matplotlib import pyplot as plt\n",
    "plt.plot(range(training_steps),results)\n",
    "plt.show"
   ]
  },
  {
   "cell_type": "code",
   "execution_count": null,
   "metadata": {},
   "outputs": [],
   "source": []
  }
 ],
 "metadata": {
  "kernelspec": {
   "display_name": "Python 3",
   "language": "python",
   "name": "python3"
  },
  "language_info": {
   "codemirror_mode": {
    "name": "ipython",
    "version": 3
   },
   "file_extension": ".py",
   "mimetype": "text/x-python",
   "name": "python",
   "nbconvert_exporter": "python",
   "pygments_lexer": "ipython3",
   "version": "3.6.4"
  }
 },
 "nbformat": 4,
 "nbformat_minor": 2
}
