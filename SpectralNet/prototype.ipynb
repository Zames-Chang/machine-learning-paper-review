{
 "cells": [
  {
   "cell_type": "code",
   "execution_count": 1,
   "metadata": {},
   "outputs": [
    {
     "name": "stderr",
     "output_type": "stream",
     "text": [
      "Using TensorFlow backend.\n"
     ]
    }
   ],
   "source": [
    "import tensorflow as tf\n",
    "from keras.layers import ZeroPadding2D,Dense\n",
    "import math\n",
    "import numpy as np\n",
    "import os\n",
    "from keras import backend as K\n",
    "from sklearn.decomposition import PCA\n",
    "from sklearn.cluster import KMeans\n",
    "import matplotlib.pyplot as plt"
   ]
  },
  {
   "cell_type": "code",
   "execution_count": 2,
   "metadata": {},
   "outputs": [
    {
     "name": "stdout",
     "output_type": "stream",
     "text": [
      "Extracting /tmp/data/train-images-idx3-ubyte.gz\n",
      "Extracting /tmp/data/train-labels-idx1-ubyte.gz\n",
      "Extracting /tmp/data/t10k-images-idx3-ubyte.gz\n",
      "Extracting /tmp/data/t10k-labels-idx1-ubyte.gz\n"
     ]
    }
   ],
   "source": [
    "from tensorflow.examples.tutorials.mnist import input_data\n",
    "mnist = input_data.read_data_sets(\"/tmp/data/\", one_hot=True)"
   ]
  },
  {
   "cell_type": "code",
   "execution_count": 3,
   "metadata": {},
   "outputs": [],
   "source": [
    "class Siamese(object):\n",
    "    def __init__(self,size_x,size_y):\n",
    "        self.network = \"\"\n",
    "        self.feature_size = size_x\n",
    "        self.lable_size = size_y\n",
    "        self.learning_rate = 0.001\n",
    "        self.loss = 0\n",
    "        self.train_op = \"\"\n",
    "        self.x1 = tf.placeholder(\"float\",name='x1',shape = [None, self.feature_size])\n",
    "        self.x2 = tf.placeholder(\"float\", name='x2',shape = [None, self.feature_size])\n",
    "        self.y1 = tf.placeholder(\"int32\", name='y1',shape = [None, self.lable_size])\n",
    "        self.y2 = tf.placeholder(\"int32\",name='y2', shape = [None, self.lable_size])\n",
    "        self.output1 = \"\"\n",
    "        self.output2 = \"\"\n",
    "        self.condition = \"\"\n",
    "        self.case_loss = \"\"\n",
    "        self.test = \"\"\n",
    "        self.sess = tf.Session()\n",
    "        self.build_network()\n",
    "    def build_network(self):\n",
    "        num_hidden = 32\n",
    "        c = 1\n",
    "        num_classes = 10\n",
    "        weights = {\n",
    "            'w1': tf.Variable(tf.random_normal([self.feature_size, num_hidden])),\n",
    "            'w2': tf.Variable(tf.random_normal([num_hidden, num_classes]))\n",
    "        }\n",
    "        biases = {\n",
    "            'b1': tf.Variable(tf.random_normal([num_hidden])),\n",
    "            'b2': tf.Variable(tf.random_normal([num_classes]))\n",
    "        }\n",
    "        output1 = tf.nn.relu(tf.matmul(self.x1,weights['w1']) + biases['b1'])\n",
    "        output1 = tf.matmul(output1,weights['w2']) + biases['b2']\n",
    "        output2 = tf.nn.relu(tf.matmul(self.x2,weights['w1']) + biases['b1'])\n",
    "        output2 = tf.matmul(output2,weights['w2']) + biases['b2']\n",
    "        self.output1 = output1\n",
    "        self.output2 = output2\n",
    "        self.condition = tf.placeholder(tf.bool, shape=[], name=\"condition\")\n",
    "        def if_True():\n",
    "            return tf.losses.mean_squared_error(output1, output2)\n",
    "        def if_False():\n",
    "            return tf.maximum(c - tf.losses.mean_squared_error(output1, output2),0)\n",
    "        self.case_loss = tf.cond(self.condition, if_True , if_False)\n",
    "        self.loss = self.loss + self.case_loss\n",
    "        optimizer = tf.train.AdamOptimizer(learning_rate=self.learning_rate)\n",
    "        self.train_op = optimizer.minimize(self.loss)\n",
    "    def pair(self):\n",
    "        pair_x = []\n",
    "        pair_y = []\n",
    "        for i,j in zip(self.train_X,self.train_Y):\n",
    "            temp_x = []\n",
    "            temp_y = []\n",
    "            for x,y in zip(self.train_X,self.train_Y):\n",
    "                temp_x.append([i,x])\n",
    "                temp_y.append([j,y])\n",
    "            pair_x.append(temp_x)\n",
    "            pair_y.append(temp_y)\n",
    "        return pair_x,pair_y\n",
    "    def train(self,training_steps):\n",
    "        # Initialize the variables (i.e. assign their default value)\n",
    "        init = tf.global_variables_initializer()\n",
    "        batch_size = 32\n",
    "        display_step = 100\n",
    "        saver = tf.train.Saver()\n",
    "    # Start training\n",
    "\n",
    "        # Run the initializer\n",
    "        self.sess.run(init)\n",
    "\n",
    "        for step in range(1, training_steps+1):\n",
    "            batch_x, batch_y = mnist.train.next_batch(batch_size)\n",
    "            # Run optimization op (backprop)\n",
    "            for i,j in zip(batch_x,batch_y):\n",
    "                for x,y in zip(batch_x,batch_y):\n",
    "                    i = i.reshape([1,self.feature_size])\n",
    "                    j= j.reshape([1,self.lable_size])\n",
    "                    x = x.reshape([1,self.feature_size])\n",
    "                    y = y.reshape([1,self.lable_size])\n",
    "                    index1, = np.where(j[0] == 1)\n",
    "                    index2, = np.where(y[0] == 1)\n",
    "                    #print(index1,index2)\n",
    "                    if(index1[0] == index2[0]):\n",
    "                        cond = True\n",
    "                    else:\n",
    "                        cond = False\n",
    "                    #print(cond)\n",
    "                    _temp = self.sess.run([self.train_op,self.loss], feed_dict={self.x1 : i, self.x2 : x,self.y1 : j, self.y2 : y,self.condition:cond})\n",
    "                    #print(temp)\n",
    "            if 1:\n",
    "                # Calculate batch loss and accuracy\n",
    "                total_loss = 0\n",
    "                for i,j in zip(batch_x,batch_y):\n",
    "                    for x,y in zip(batch_x,batch_y):\n",
    "                        i = i.reshape([1,self.feature_size])\n",
    "                        j= j.reshape([1,self.lable_size])\n",
    "                        x = x.reshape([1,self.feature_size])\n",
    "                        y = y.reshape([1,self.lable_size])\n",
    "                        index1, = np.where(j[0] == 1)\n",
    "                        index2, = np.where(y[0] == 1)\n",
    "                        #print(index1,index2)\n",
    "                        if(index1[0] == index2[0]):\n",
    "                            cond = True\n",
    "                        else:\n",
    "                            cond = False\n",
    "                        loss = self.sess.run([self.loss],feed_dict={self.x1 : i, self.x2 : x,self.y1 : j, self.y2 : y,self.condition:cond})\n",
    "                        total_loss += loss[0]\n",
    "                print(\"Step \" + str(step) + \", Minibatch Loss= \" + \\\n",
    "                      \"{:.4f}\".format(total_loss))\n",
    "\n",
    "        print(\"Optimization Finished!\")\n",
    "        save_path = saver.save(self.sess, \"/tmp/model/siamese.ckpt\")\n",
    "    def predict(self,a,b):\n",
    "        #tf.reset_default_graph()\n",
    "        a = a.reshape([1,self.feature_size])\n",
    "        b = b.reshape([1,self.feature_size])\n",
    "        temp1,temp2 = self.sess.run([self.output1,self.output2], feed_dict={self.x1 : a, self.x2 : b})\n",
    "        return np.sum(abs(temp1-temp2))"
   ]
  },
  {
   "cell_type": "code",
   "execution_count": 4,
   "metadata": {},
   "outputs": [],
   "source": [
    "batch_x, batch_y = mnist.train.next_batch(32)"
   ]
  },
  {
   "cell_type": "code",
   "execution_count": 5,
   "metadata": {},
   "outputs": [],
   "source": [
    "siamese_network = Siamese(batch_x.shape[1], batch_y.shape[1])"
   ]
  },
  {
   "cell_type": "code",
   "execution_count": 6,
   "metadata": {},
   "outputs": [
    {
     "name": "stdout",
     "output_type": "stream",
     "text": [
      "Step 1, Minibatch Loss= 18866.6350\n",
      "Step 2, Minibatch Loss= 8092.9728\n",
      "Step 3, Minibatch Loss= 5481.6709\n",
      "Step 4, Minibatch Loss= 3169.3626\n",
      "Step 5, Minibatch Loss= 1490.3421\n",
      "Step 6, Minibatch Loss= 522.5423\n",
      "Step 7, Minibatch Loss= 643.8880\n",
      "Step 8, Minibatch Loss= 302.3325\n",
      "Step 9, Minibatch Loss= 399.2154\n",
      "Step 10, Minibatch Loss= 403.4974\n",
      "Step 11, Minibatch Loss= 496.4254\n",
      "Step 12, Minibatch Loss= 430.0296\n",
      "Step 13, Minibatch Loss= 528.5333\n",
      "Step 14, Minibatch Loss= 475.8597\n",
      "Step 15, Minibatch Loss= 563.3101\n",
      "Step 16, Minibatch Loss= 469.4447\n",
      "Step 17, Minibatch Loss= 506.3568\n",
      "Step 18, Minibatch Loss= 515.8438\n",
      "Step 19, Minibatch Loss= 640.2323\n",
      "Step 20, Minibatch Loss= 368.7523\n",
      "Step 21, Minibatch Loss= 280.5113\n",
      "Step 22, Minibatch Loss= 308.2188\n",
      "Step 23, Minibatch Loss= 298.2682\n",
      "Step 24, Minibatch Loss= 207.0968\n",
      "Step 25, Minibatch Loss= 340.8509\n",
      "Step 26, Minibatch Loss= 335.7223\n",
      "Step 27, Minibatch Loss= 243.3783\n",
      "Step 28, Minibatch Loss= 198.8292\n",
      "Step 29, Minibatch Loss= 211.4757\n",
      "Step 30, Minibatch Loss= 163.4658\n",
      "Step 31, Minibatch Loss= 171.6700\n",
      "Step 32, Minibatch Loss= 208.9925\n",
      "Step 33, Minibatch Loss= 130.9459\n",
      "Step 34, Minibatch Loss= 155.4743\n",
      "Step 35, Minibatch Loss= 182.4503\n",
      "Step 36, Minibatch Loss= 127.6349\n",
      "Step 37, Minibatch Loss= 124.8496\n",
      "Step 38, Minibatch Loss= 248.8119\n",
      "Step 39, Minibatch Loss= 168.7126\n",
      "Step 40, Minibatch Loss= 141.3296\n",
      "Step 41, Minibatch Loss= 202.4957\n",
      "Step 42, Minibatch Loss= 181.8278\n",
      "Step 43, Minibatch Loss= 161.9158\n",
      "Step 44, Minibatch Loss= 234.7256\n",
      "Step 45, Minibatch Loss= 177.9426\n",
      "Step 46, Minibatch Loss= 165.8673\n",
      "Step 47, Minibatch Loss= 181.8042\n",
      "Step 48, Minibatch Loss= 183.9339\n",
      "Step 49, Minibatch Loss= 262.1077\n",
      "Step 50, Minibatch Loss= 113.4653\n",
      "Optimization Finished!\n"
     ]
    }
   ],
   "source": [
    "sess = siamese_network.train(50)"
   ]
  },
  {
   "cell_type": "code",
   "execution_count": 7,
   "metadata": {},
   "outputs": [],
   "source": [
    "class SpectralNet(object):\n",
    "    def __init__(self,mnist,siamese_network):\n",
    "        self.network = \"\"\n",
    "        self.learning_rate = 0.001\n",
    "        self.loss = 0\n",
    "        self.train_op = \"\"\n",
    "        self.batch_size = 4\n",
    "        batch_x, batch_y = mnist.train.next_batch(self.batch_size)\n",
    "        self.feature_size = batch_x[0].shape[0]\n",
    "        self.x = tf.placeholder(\"float\",name='x',shape = [None, self.feature_size])\n",
    "        batch_x, batch_y = mnist.train.next_batch(32)\n",
    "        self.siamese_network = siamese_network\n",
    "        self.build_network()\n",
    "        self.sess = tf.Session()\n",
    "    def build_network(self):\n",
    "        num_hidden = 32\n",
    "        num_classes = 10\n",
    "        weights = {\n",
    "            'w1': tf.Variable(tf.random_normal([self.feature_size, num_hidden])),\n",
    "            'w2': tf.Variable(tf.random_normal([num_hidden, num_classes])),\n",
    "            'orth': tf.Variable(tf.random_normal([num_classes, num_classes]),name='orth')\n",
    "        }\n",
    "        biases = {\n",
    "            'b1': tf.Variable(tf.random_normal([num_hidden])),\n",
    "            'b2': tf.Variable(tf.random_normal([num_classes]))\n",
    "        }\n",
    "        output = tf.nn.relu(tf.matmul(self.x,weights['w1']) + biases['b1'])\n",
    "        output = tf.nn.softmax(tf.matmul(output,weights['w2']) + biases['b2'])\n",
    "        #weights['orth'] = self.orthonorm_op(output)\n",
    "        self.before_orth = output\n",
    "        self.W = tf.placeholder(\"float\",name='W',shape = [self.batch_size,self.batch_size])\n",
    "        output = tf.matmul(output,self.orthonorm_op(output))\n",
    "        self.embed_y = output\n",
    "        for i in range(self.batch_size):\n",
    "            for j in range(self.batch_size):\n",
    "                self.loss += tf.reduce_sum((tf.abs(output[i]-output[j])))*self.W[i][j]\n",
    "        optimizer = tf.train.AdamOptimizer(learning_rate=self.learning_rate)\n",
    "        self.train_op = optimizer.minimize(self.loss)\n",
    "    def aff_matrix(self,train_x):\n",
    "        w = []\n",
    "        for i in train_x:\n",
    "            temp_w = []\n",
    "            for j in train_x:\n",
    "                temp = self.siamese_network.predict(i,j)\n",
    "                temp_w.append(temp)\n",
    "            w.append(temp_w)\n",
    "        return w\n",
    "    def orthonorm_op(self,x, epsilon=1e-7):\n",
    "        x_2 = K.dot(K.transpose(x), x)\n",
    "        x_2 += K.eye(K.int_shape(x)[1])*epsilon\n",
    "        print(x_2)\n",
    "        L = tf.cholesky(x_2)\n",
    "        ortho_weights = tf.transpose(tf.matrix_inverse(L)) * tf.sqrt(tf.cast(tf.shape(x)[0], dtype=K.floatx()))\n",
    "        return ortho_weights\n",
    "    def train(self,training_steps):\n",
    "        init = tf.global_variables_initializer()\n",
    "        saver = tf.train.Saver()\n",
    "        \n",
    "        # Start training\n",
    "        # Run the initializer\n",
    "        self.sess.run(init)\n",
    "        for step in range(1, training_steps+1):\n",
    "            batch_x, batch_y = mnist.train.next_batch(self.batch_size)\n",
    "            feed_dict={\n",
    "                self.x : batch_x,\n",
    "                self.W : self.aff_matrix(batch_x)\n",
    "            }\n",
    "            _,loss = self.sess.run([self.train_op,self.loss],feed_dict =feed_dict)\n",
    "            print(\"Step \" + str(step) + \", Minibatch Loss= \" + \\\n",
    "                      \"{:.4f}\".format(loss))\n",
    "    def predict(self,test_x): \n",
    "        return self.sess.run([self.embed_y], feed_dict={self.x : test_x})"
   ]
  },
  {
   "cell_type": "code",
   "execution_count": 8,
   "metadata": {},
   "outputs": [
    {
     "name": "stdout",
     "output_type": "stream",
     "text": [
      "Tensor(\"add_7:0\", shape=(10, 10), dtype=float32)\n"
     ]
    }
   ],
   "source": [
    "S_network = SpectralNet(mnist,siamese_network)"
   ]
  },
  {
   "cell_type": "code",
   "execution_count": 9,
   "metadata": {},
   "outputs": [
    {
     "name": "stdout",
     "output_type": "stream",
     "text": [
      "Step 1, Minibatch Loss= 213.3877\n",
      "Step 2, Minibatch Loss= 500.4944\n",
      "Step 3, Minibatch Loss= 282.8593\n",
      "Step 4, Minibatch Loss= 301.9021\n",
      "Step 5, Minibatch Loss= 765.2753\n",
      "Step 6, Minibatch Loss= 487.3140\n",
      "Step 7, Minibatch Loss= 178.0887\n",
      "Step 8, Minibatch Loss= 180.0636\n",
      "Step 9, Minibatch Loss= 359.4991\n",
      "Step 10, Minibatch Loss= 605.0786\n",
      "Step 11, Minibatch Loss= 746.5096\n",
      "Step 12, Minibatch Loss= 637.6595\n",
      "Step 13, Minibatch Loss= 664.6064\n",
      "Step 14, Minibatch Loss= 801.6641\n",
      "Step 15, Minibatch Loss= 632.7047\n",
      "Step 16, Minibatch Loss= 697.9207\n",
      "Step 17, Minibatch Loss= 382.2742\n",
      "Step 18, Minibatch Loss= 462.5614\n",
      "Step 19, Minibatch Loss= 232.5236\n",
      "Step 20, Minibatch Loss= 580.8422\n",
      "Step 21, Minibatch Loss= 462.5860\n",
      "Step 22, Minibatch Loss= 554.9055\n",
      "Step 23, Minibatch Loss= 403.2976\n",
      "Step 24, Minibatch Loss= 441.2100\n",
      "Step 25, Minibatch Loss= 592.6334\n",
      "Step 26, Minibatch Loss= 386.3597\n",
      "Step 27, Minibatch Loss= 478.1457\n",
      "Step 28, Minibatch Loss= 456.5338\n",
      "Step 29, Minibatch Loss= 563.1348\n",
      "Step 30, Minibatch Loss= 751.1552\n",
      "Step 31, Minibatch Loss= 746.1320\n",
      "Step 32, Minibatch Loss= 347.5524\n",
      "Step 33, Minibatch Loss= 449.0945\n",
      "Step 34, Minibatch Loss= 714.3640\n",
      "Step 35, Minibatch Loss= 460.6026\n",
      "Step 36, Minibatch Loss= 489.8983\n",
      "Step 37, Minibatch Loss= 763.6034\n",
      "Step 38, Minibatch Loss= 825.2841\n",
      "Step 39, Minibatch Loss= 703.3973\n",
      "Step 40, Minibatch Loss= 446.7850\n",
      "Step 41, Minibatch Loss= 704.4042\n",
      "Step 42, Minibatch Loss= 246.3927\n",
      "Step 43, Minibatch Loss= 441.8589\n",
      "Step 44, Minibatch Loss= 683.3696\n",
      "Step 45, Minibatch Loss= 865.4255\n",
      "Step 46, Minibatch Loss= 349.4729\n",
      "Step 47, Minibatch Loss= 687.0284\n",
      "Step 48, Minibatch Loss= 312.0277\n",
      "Step 49, Minibatch Loss= 347.4283\n",
      "Step 50, Minibatch Loss= 121.5371\n"
     ]
    }
   ],
   "source": [
    "S_network.train(50)"
   ]
  },
  {
   "cell_type": "code",
   "execution_count": 10,
   "metadata": {},
   "outputs": [],
   "source": [
    "def get_label(train_x):\n",
    "    kmeans = KMeans(n_clusters=10, random_state=0).fit(train_x)\n",
    "    return kmeans.predict(train_x)     "
   ]
  },
  {
   "cell_type": "code",
   "execution_count": 11,
   "metadata": {},
   "outputs": [],
   "source": [
    "batch_x, batch_y = mnist.train.next_batch(512)\n",
    "pca_a = PCA(n_components=2, copy=True, whiten=False)\n",
    "pca_b = PCA(n_components=2, copy=True, whiten=False)\n",
    "a = S_network.predict(batch_x)[0]\n",
    "b = batch_x\n",
    "pca_a.fit(a)\n",
    "pca_b.fit(b)\n",
    "a = pca_a.transform(a)\n",
    "b = pca_b.transform(b)\n",
    "label_a = get_label(a)\n",
    "label_b = get_label(b)\n"
   ]
  },
  {
   "cell_type": "code",
   "execution_count": 12,
   "metadata": {},
   "outputs": [
    {
     "name": "stdout",
     "output_type": "stream",
     "text": [
      "\n"
     ]
    }
   ],
   "source": [
    "print()"
   ]
  },
  {
   "cell_type": "code",
   "execution_count": 13,
   "metadata": {},
   "outputs": [
    {
     "data": {
      "text/plain": [
       "<matplotlib.collections.PathCollection at 0x1c23e696a0>"
      ]
     },
     "execution_count": 13,
     "metadata": {},
     "output_type": "execute_result"
    }
   ],
   "source": [
    "plt.scatter(a[:,0],a[:,1],s=10, c=label_a, alpha=.5)"
   ]
  },
  {
   "cell_type": "code",
   "execution_count": 14,
   "metadata": {},
   "outputs": [
    {
     "data": {
      "image/png": "[encoded data removed]",
      "text/plain": [
       "<matplotlib.figure.Figure at 0x1c2349b828>"
      ]
     },
     "metadata": {},
     "output_type": "display_data"
    }
   ],
   "source": [
    "plt.show()"
   ]
  },
  {
   "cell_type": "code",
   "execution_count": 15,
   "metadata": {},
   "outputs": [
    {
     "data": {
      "image/png": "[encoded data removed]",
      "text/plain": [
       "<matplotlib.figure.Figure at 0x1c237bb588>"
      ]
     },
     "metadata": {},
     "output_type": "display_data"
    }
   ],
   "source": [
    "plt.scatter(b[:,0],b[:,1],s=10, c=label_a, alpha=.5)\n",
    "plt.show()"
   ]
  },
  {
   "cell_type": "code",
   "execution_count": null,
   "metadata": {
    "collapsed": true
   },
   "outputs": [],
   "source": []
  }
 ],
 "metadata": {
  "kernelspec": {
   "display_name": "Python 3",
   "language": "python",
   "name": "python3"
  },
  "language_info": {
   "codemirror_mode": {
    "name": "ipython",
    "version": 3
   },
   "file_extension": ".py",
   "mimetype": "text/x-python",
   "name": "python",
   "nbconvert_exporter": "python",
   "pygments_lexer": "ipython3",
   "version": "3.6.4"
  }
 },
 "nbformat": 4,
 "nbformat_minor": 2
}
