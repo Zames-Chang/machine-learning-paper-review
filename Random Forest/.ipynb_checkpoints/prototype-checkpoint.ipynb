{
 "cells": [
  {
   "cell_type": "code",
   "execution_count": 1,
   "metadata": {},
   "outputs": [
    {
     "name": "stderr",
     "output_type": "stream",
     "text": [
      "C:\\Users\\User\\Anaconda3\\lib\\site-packages\\h5py\\__init__.py:36: FutureWarning: Conversion of the second argument of issubdtype from `float` to `np.floating` is deprecated. In future, it will be treated as `np.float64 == np.dtype(float).type`.\n",
      "  from ._conv import register_converters as _register_converters\n"
     ]
    },
    {
     "name": "stdout",
     "output_type": "stream",
     "text": [
      "WARNING:tensorflow:From <ipython-input-1-fd83e504c298>:17: read_data_sets (from tensorflow.contrib.learn.python.learn.datasets.mnist) is deprecated and will be removed in a future version.\n",
      "Instructions for updating:\n",
      "Please use alternatives such as official/mnist/dataset.py from tensorflow/models.\n",
      "WARNING:tensorflow:From C:\\Users\\User\\Anaconda3\\lib\\site-packages\\tensorflow\\contrib\\learn\\python\\learn\\datasets\\mnist.py:260: maybe_download (from tensorflow.contrib.learn.python.learn.datasets.base) is deprecated and will be removed in a future version.\n",
      "Instructions for updating:\n",
      "Please write your own downloading logic.\n",
      "WARNING:tensorflow:From C:\\Users\\User\\Anaconda3\\lib\\site-packages\\tensorflow\\contrib\\learn\\python\\learn\\datasets\\mnist.py:262: extract_images (from tensorflow.contrib.learn.python.learn.datasets.mnist) is deprecated and will be removed in a future version.\n",
      "Instructions for updating:\n",
      "Please use tf.data to implement this functionality.\n",
      "Extracting /tmp/data/train-images-idx3-ubyte.gz\n",
      "WARNING:tensorflow:From C:\\Users\\User\\Anaconda3\\lib\\site-packages\\tensorflow\\contrib\\learn\\python\\learn\\datasets\\mnist.py:267: extract_labels (from tensorflow.contrib.learn.python.learn.datasets.mnist) is deprecated and will be removed in a future version.\n",
      "Instructions for updating:\n",
      "Please use tf.data to implement this functionality.\n",
      "Extracting /tmp/data/train-labels-idx1-ubyte.gz\n",
      "Extracting /tmp/data/t10k-images-idx3-ubyte.gz\n",
      "Extracting /tmp/data/t10k-labels-idx1-ubyte.gz\n",
      "WARNING:tensorflow:From C:\\Users\\User\\Anaconda3\\lib\\site-packages\\tensorflow\\contrib\\learn\\python\\learn\\datasets\\mnist.py:290: DataSet.__init__ (from tensorflow.contrib.learn.python.learn.datasets.mnist) is deprecated and will be removed in a future version.\n",
      "Instructions for updating:\n",
      "Please use alternatives such as official/mnist/dataset.py from tensorflow/models.\n"
     ]
    }
   ],
   "source": [
    "from __future__ import print_function\n",
    "\n",
    "import numpy as np\n",
    "\n",
    "import sklearn\n",
    "\n",
    "import pandas as pd\n",
    "\n",
    "import tensorflow as tf\n",
    "\n",
    "from tensorflow.contrib.tensor_forest.python import tensor_forest\n",
    "\n",
    "from tensorflow.python.ops import resources\n",
    "\n",
    "from tensorflow.examples.tutorials.mnist import input_data\n",
    "\n",
    "mnist = input_data.read_data_sets(\"/tmp/data/\", one_hot=False)\n",
    "\n",
    "\n",
    "# Ignore all GPUs, tf random forest does not benefit from it."
   ]
  },
  {
   "cell_type": "code",
   "execution_count": 2,
   "metadata": {},
   "outputs": [
    {
     "data": {
      "text/plain": [
       "array([7, 3, 4, ..., 5, 6, 8], dtype=uint8)"
      ]
     },
     "execution_count": 2,
     "metadata": {},
     "output_type": "execute_result"
    }
   ],
   "source": [
    "mnist.train.labels"
   ]
  },
  {
   "cell_type": "code",
   "execution_count": 3,
   "metadata": {},
   "outputs": [
    {
     "name": "stdout",
     "output_type": "stream",
     "text": [
      "INFO:tensorflow:Constructing forest with params = \n",
      "INFO:tensorflow:{'num_trees': 10, 'max_nodes': 1000, 'bagging_fraction': 1.0, 'feature_bagging_fraction': 1.0, 'num_splits_to_consider': 28, 'max_fertile_nodes': 0, 'split_after_samples': 250, 'valid_leaf_threshold': 1, 'dominate_method': 'bootstrap', 'dominate_fraction': 0.99, 'model_name': 'all_dense', 'split_finish_name': 'basic', 'split_pruning_name': 'none', 'collate_examples': False, 'checkpoint_stats': False, 'use_running_stats_method': False, 'initialize_average_splits': False, 'inference_tree_paths': False, 'param_file': None, 'split_name': 'less_or_equal', 'early_finish_check_every_samples': 0, 'prune_every_samples': 0, 'num_classes': 10, 'num_features': 784, 'bagged_num_features': 784, 'bagged_features': None, 'regression': False, 'num_outputs': 1, 'num_output_columns': 11, 'base_random_seed': 0, 'leaf_model_type': 0, 'stats_model_type': 0, 'finish_type': 0, 'pruning_type': 0, 'split_type': 0}\n"
     ]
    }
   ],
   "source": [
    "import os\n",
    "\n",
    "\n",
    "\n",
    "#Extract feature and target np arrays (inputs for placeholders)\n",
    "\n",
    "input_x = mnist.train.images\n",
    "\n",
    "input_y = mnist.train.labels\n",
    "\n",
    "\n",
    "\n",
    "# Splitting the dataset into the Training set and Test set\n",
    "\n",
    "from sklearn.model_selection import train_test_split\n",
    "\n",
    "X_train, X_test, y_train, y_test = train_test_split(input_x, input_y, test_size = 0.25, random_state = 0)\n",
    "\n",
    "\n",
    "# Parameters\n",
    "\n",
    "num_steps = 100 # Total steps to train\n",
    "\n",
    "num_classes = 10 \n",
    "\n",
    "num_features = 28*28 \n",
    "\n",
    "num_trees = 10 \n",
    "\n",
    "max_nodes = 1000 \n",
    "\n",
    "filter1 = 8\n",
    "filter2 = 16\n",
    "\n",
    "kernel_size = [3,3]\n",
    "# Input and Target placeholders \n",
    "\n",
    "X = tf.placeholder(tf.float32, shape=[None, num_features])\n",
    "\n",
    "Y = tf.placeholder(tf.int64, shape=[None])\n",
    "\n",
    "reshape_x = tf.reshape(X,[-1,28,28,1])\n",
    "\n",
    "conv1 = tf.layers.conv2d(\n",
    "          inputs=reshape_x,\n",
    "          filters=filter1,\n",
    "          kernel_size=kernel_size,\n",
    "          padding=\"same\",\n",
    "          activation=None)\n",
    "pool1 = tf.layers.max_pooling2d(inputs=conv1, pool_size=[2, 2], strides=2)\n",
    "\n",
    "conv2 = tf.layers.conv2d(\n",
    "          inputs=pool1,\n",
    "          filters=filter2,\n",
    "          kernel_size=kernel_size,\n",
    "          padding=\"same\",\n",
    "          activation=None)\n",
    "pool2 = tf.layers.max_pooling2d(inputs=conv2, pool_size=[2, 2], strides=2)\n",
    "\n",
    "flatten_x = tf.contrib.layers.flatten(\n",
    "          pool2,\n",
    "          outputs_collections=None,\n",
    "          scope=None\n",
    "        )\n",
    "# Random Forest Parameters\n",
    "\n",
    "hparams = tensor_forest.ForestHParams(num_classes=num_classes, num_features=num_features, num_trees=num_trees, max_nodes=max_nodes).fill()\n",
    "\n",
    "\n",
    "\n",
    "# Build the Random Forest\n",
    "\n",
    "forest_graph = tensor_forest.RandomForestGraphs(hparams)\n",
    "\n",
    "\n",
    "\n",
    "# Get training graph and loss\n",
    "\n",
    "train_op = forest_graph.training_graph(flatten_x, Y)\n",
    "\n",
    "loss_op = forest_graph.training_loss(flatten_x, Y)\n",
    "\n",
    "\n",
    "\n",
    "# Measure the accuracy\n",
    "\n",
    "infer_op, _, _ = forest_graph.inference_graph(flatten_x)\n",
    "\n",
    "correct_prediction = tf.equal(tf.argmax(infer_op, 1), tf.cast(Y, tf.int64))\n",
    "\n",
    "accuracy_op = tf.reduce_mean(tf.cast(correct_prediction, tf.float32))\n",
    "\n",
    "\n",
    "\n",
    "# Initialize the variables (i.e. assign their default value) and forest resources\n",
    "\n",
    "init_vars = tf.group(tf.global_variables_initializer(), resources.initialize_resources(resources.shared_resources()))\n",
    "\n",
    "    \n",
    "\n",
    "# Start TensorFlow session\n",
    "\n",
    "sess = tf.Session()\n",
    "\n",
    "\n",
    "\n",
    "# Run the initializer\n",
    "\n",
    "sess.run(init_vars)\n"
   ]
  },
  {
   "cell_type": "code",
   "execution_count": null,
   "metadata": {},
   "outputs": [],
   "source": [
    "batch_size = 32\n",
    "\n",
    "# Training\n",
    "\n",
    "for i in range(1, num_steps + 1):\n",
    "    batch_x, batch_y = mnist.train.next_batch(batch_size)\n",
    "\n",
    "    _, l = sess.run([train_op, loss_op], feed_dict={X: batch_x, Y:batch_y})\n",
    "\n",
    "    if i % 50 == 0 or i == 1:\n",
    "\n",
    "        acc = sess.run(accuracy_op, feed_dict={X: batch_x, Y: batch_y})\n",
    "\n",
    "        print('Step %i, Loss: %f, Acc: %f' % (i, l, acc))\n",
    "\n",
    "\n",
    "\n",
    "# Test Model\n",
    "\n",
    "print(\"Test Accuracy:\", sess.run(accuracy_op, feed_dict={X: X_test, Y: y_test}))"
   ]
  },
  {
   "cell_type": "code",
   "execution_count": null,
   "metadata": {},
   "outputs": [],
   "source": []
  }
 ],
 "metadata": {
  "kernelspec": {
   "display_name": "Python 3",
   "language": "python",
   "name": "python3"
  },
  "language_info": {
   "codemirror_mode": {
    "name": "ipython",
    "version": 3
   },
   "file_extension": ".py",
   "mimetype": "text/x-python",
   "name": "python",
   "nbconvert_exporter": "python",
   "pygments_lexer": "ipython3",
   "version": "3.6.4"
  }
 },
 "nbformat": 4,
 "nbformat_minor": 2
}
